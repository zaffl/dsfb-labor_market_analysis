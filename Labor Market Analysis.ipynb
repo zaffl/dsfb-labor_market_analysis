{
 "cells": [
  {
   "cell_type": "markdown",
   "id": "graphic-median",
   "metadata": {},
   "source": [
    "# **Data Science for Business - Labor Market Analysis**"
   ]
  },
  {
   "cell_type": "markdown",
   "id": "controlled-graphic",
   "metadata": {},
   "source": [
    "The aim of this project is to analyse, by means of data science techniques, the labor market for citizen of Lombardia, Italia.\n",
    "In particular in this notebook we will see:\n",
    "<ul>\n",
    "    <li>Data Collecting - Retrive data from web sources</li>\n",
    "    <li>Data Cleaning</li>\n",
    "    <li>Statistics</li>\n",
    "    <li>Anticipation of the labor market, where new job opportunitites will be created</li>\n",
    "    <li>...</li>\n",
    "    <li>...</li>\n",
    "    <li>How SARS-CoV-2 epidemic affect the labor market</li>\n",
    "</ul>"
   ]
  },
  {
   "cell_type": "markdown",
   "id": "impressive-anaheim",
   "metadata": {},
   "source": [
    "Let's import all needed library"
   ]
  },
  {
   "cell_type": "code",
   "execution_count": 1,
   "id": "individual-logging",
   "metadata": {},
   "outputs": [],
   "source": [
    "#Import Libraries\n",
    "import pandas as pd\n",
    "import seaborn as sns\n",
    "import matplotlib.pyplot as plt\n",
    "import numpy as np\n",
    "import scipy as sp\n",
    "import requests\n",
    "from os.path import exists\n",
    "from datetime import datetime"
   ]
  },
  {
   "cell_type": "code",
   "execution_count": 2,
   "id": "canadian-bristol",
   "metadata": {},
   "outputs": [],
   "source": [
    "%matplotlib inline"
   ]
  },
  {
   "cell_type": "markdown",
   "id": "restricted-parameter",
   "metadata": {},
   "source": [
    "# Data Collecting - Retrive data from web sources"
   ]
  },
  {
   "cell_type": "markdown",
   "id": "suspected-wrestling",
   "metadata": {},
   "source": [
    "First of all let's retrive the two datasets selected for the analysis from the site of Regione Lombardia"
   ]
  },
  {
   "cell_type": "code",
   "execution_count": 3,
   "id": "buried-violation",
   "metadata": {},
   "outputs": [],
   "source": [
    "if not exists('Rapporti_di_lavoro_attivati.csv'):\n",
    "    r = requests.get(\"https://dati.lombardia.it/api/views/qbau-cyuc/rows.csv?accessType=DOWNLOAD\", allow_redirects=True)\n",
    "    open('Rapporti_di_lavoro_attivati.csv', 'wb').write(r.content)\n",
    "\n",
    "if not exists('Rapporti_di_lavoro_cessati.csv'):\n",
    "    r = requests.get(\"https://dati.lombardia.it/api/views/nwz3-p6vm/rows.csv?accessType=DOWNLOAD\", allow_redirects=True)\n",
    "    open('Rapporti_di_lavoro_cessati.csv', 'wb').write(r.content) "
   ]
  },
  {
   "cell_type": "markdown",
   "id": "massive-remains",
   "metadata": {},
   "source": [
    "Load CSV file into Panda DataFrame"
   ]
  },
  {
   "cell_type": "code",
   "execution_count": 4,
   "id": "hundred-bronze",
   "metadata": {},
   "outputs": [
    {
     "data": {
      "text/html": [
       "<div>\n",
       "<style scoped>\n",
       "    .dataframe tbody tr th:only-of-type {\n",
       "        vertical-align: middle;\n",
       "    }\n",
       "\n",
       "    .dataframe tbody tr th {\n",
       "        vertical-align: top;\n",
       "    }\n",
       "\n",
       "    .dataframe thead th {\n",
       "        text-align: right;\n",
       "    }\n",
       "</style>\n",
       "<table border=\"1\" class=\"dataframe\">\n",
       "  <thead>\n",
       "    <tr style=\"text-align: right;\">\n",
       "      <th></th>\n",
       "      <th>DATA</th>\n",
       "      <th>GENERE</th>\n",
       "      <th>ETA</th>\n",
       "      <th>SETTOREECONOMICODETTAGLIO</th>\n",
       "      <th>TITOLOSTUDIO</th>\n",
       "      <th>CONTRATTO</th>\n",
       "      <th>MODALITALAVORO</th>\n",
       "      <th>PROVINCIAIMPRESA</th>\n",
       "      <th>ITALIANO</th>\n",
       "    </tr>\n",
       "  </thead>\n",
       "  <tbody>\n",
       "    <tr>\n",
       "      <th>0</th>\n",
       "      <td>09/05/2020</td>\n",
       "      <td>F</td>\n",
       "      <td>60</td>\n",
       "      <td>Attività di famiglie e convivenze come datori ...</td>\n",
       "      <td>NESSUN TITOLO DI STUDIO</td>\n",
       "      <td>LAVORO DOMESTICO</td>\n",
       "      <td>TEMPO PIENO</td>\n",
       "      <td>BERGAMO</td>\n",
       "      <td>UCRAINA</td>\n",
       "    </tr>\n",
       "    <tr>\n",
       "      <th>1</th>\n",
       "      <td>12/07/2019</td>\n",
       "      <td>M</td>\n",
       "      <td>43</td>\n",
       "      <td>Gestioni di funicolari, ski-lift e seggiovie s...</td>\n",
       "      <td>LICENZA MEDIA</td>\n",
       "      <td>LAVORO A TEMPO DETERMINATO</td>\n",
       "      <td>TEMPO PIENO</td>\n",
       "      <td>BERGAMO</td>\n",
       "      <td>ITALIA</td>\n",
       "    </tr>\n",
       "    <tr>\n",
       "      <th>2</th>\n",
       "      <td>05/06/2013</td>\n",
       "      <td>F</td>\n",
       "      <td>20</td>\n",
       "      <td>Fabbricazione di altre apparecchiature elettri...</td>\n",
       "      <td>LICENZA MEDIA</td>\n",
       "      <td>APPRENDISTATO PROFESSIONALIZZANTE O CONTRATTO ...</td>\n",
       "      <td>TEMPO PIENO</td>\n",
       "      <td>BERGAMO</td>\n",
       "      <td>ITALIA</td>\n",
       "    </tr>\n",
       "    <tr>\n",
       "      <th>3</th>\n",
       "      <td>12/03/2010</td>\n",
       "      <td>F</td>\n",
       "      <td>28</td>\n",
       "      <td>Alberghi</td>\n",
       "      <td>DIPLOMA DI ISTRUZIONE SECONDARIA SUPERIORE  CH...</td>\n",
       "      <td>LAVORO INTERMITTENTE A TEMPO DETERMINATO</td>\n",
       "      <td>NON DEFINITO</td>\n",
       "      <td>BERGAMO</td>\n",
       "      <td>ITALIA</td>\n",
       "    </tr>\n",
       "    <tr>\n",
       "      <th>4</th>\n",
       "      <td>06/04/2021</td>\n",
       "      <td>F</td>\n",
       "      <td>49</td>\n",
       "      <td>Rifugi di montagna</td>\n",
       "      <td>LICENZA MEDIA</td>\n",
       "      <td>LAVORO INTERMITTENTE</td>\n",
       "      <td>NON DEFINITO</td>\n",
       "      <td>BERGAMO</td>\n",
       "      <td>ITALIA</td>\n",
       "    </tr>\n",
       "    <tr>\n",
       "      <th>...</th>\n",
       "      <td>...</td>\n",
       "      <td>...</td>\n",
       "      <td>...</td>\n",
       "      <td>...</td>\n",
       "      <td>...</td>\n",
       "      <td>...</td>\n",
       "      <td>...</td>\n",
       "      <td>...</td>\n",
       "      <td>...</td>\n",
       "    </tr>\n",
       "    <tr>\n",
       "      <th>9579789</th>\n",
       "      <td>01/03/2020</td>\n",
       "      <td>M</td>\n",
       "      <td>52</td>\n",
       "      <td>Lavori di meccanica generale</td>\n",
       "      <td>LICENZA MEDIA</td>\n",
       "      <td>LAVORO A TEMPO DETERMINATO</td>\n",
       "      <td>TEMPO PIENO</td>\n",
       "      <td>BERGAMO</td>\n",
       "      <td>ITALIA</td>\n",
       "    </tr>\n",
       "    <tr>\n",
       "      <th>9579790</th>\n",
       "      <td>06/09/2010</td>\n",
       "      <td>M</td>\n",
       "      <td>61</td>\n",
       "      <td>Lavori di meccanica generale</td>\n",
       "      <td>NESSUN TITOLO DI STUDIO</td>\n",
       "      <td>LAVORO A TEMPO INDETERMINATO</td>\n",
       "      <td>TEMPO PIENO</td>\n",
       "      <td>BERGAMO</td>\n",
       "      <td>ALBANIA</td>\n",
       "    </tr>\n",
       "    <tr>\n",
       "      <th>9579791</th>\n",
       "      <td>06/11/2021</td>\n",
       "      <td>M</td>\n",
       "      <td>37</td>\n",
       "      <td>Fabbricazione di parti ed accessori per bicicl...</td>\n",
       "      <td>NESSUN TITOLO DI STUDIO</td>\n",
       "      <td>LAVORO A TEMPO DETERMINATO</td>\n",
       "      <td>TEMPO PIENO</td>\n",
       "      <td>BERGAMO</td>\n",
       "      <td>SENEGAL</td>\n",
       "    </tr>\n",
       "    <tr>\n",
       "      <th>9579792</th>\n",
       "      <td>02/02/2010</td>\n",
       "      <td>M</td>\n",
       "      <td>35</td>\n",
       "      <td>Fabbricazione di parti ed accessori per bicicl...</td>\n",
       "      <td>LICENZA MEDIA</td>\n",
       "      <td>LAVORO INTERINALE (O A SCOPO DI SOMMINISTRAZIO...</td>\n",
       "      <td>TEMPO PIENO</td>\n",
       "      <td>BERGAMO</td>\n",
       "      <td>SENEGAL</td>\n",
       "    </tr>\n",
       "    <tr>\n",
       "      <th>9579793</th>\n",
       "      <td>05/07/2012</td>\n",
       "      <td>F</td>\n",
       "      <td>39</td>\n",
       "      <td>Commercio all'ingrosso di abbigliamento e acce...</td>\n",
       "      <td>LICENZA MEDIA</td>\n",
       "      <td>LAVORO INTERINALE (O A SCOPO DI SOMMINISTRAZIO...</td>\n",
       "      <td>NaN</td>\n",
       "      <td>BERGAMO</td>\n",
       "      <td>ITALIA</td>\n",
       "    </tr>\n",
       "  </tbody>\n",
       "</table>\n",
       "<p>9579794 rows × 9 columns</p>\n",
       "</div>"
      ],
      "text/plain": [
       "               DATA GENERE  ETA  \\\n",
       "0        09/05/2020      F   60   \n",
       "1        12/07/2019      M   43   \n",
       "2        05/06/2013      F   20   \n",
       "3        12/03/2010      F   28   \n",
       "4        06/04/2021      F   49   \n",
       "...             ...    ...  ...   \n",
       "9579789  01/03/2020      M   52   \n",
       "9579790  06/09/2010      M   61   \n",
       "9579791  06/11/2021      M   37   \n",
       "9579792  02/02/2010      M   35   \n",
       "9579793  05/07/2012      F   39   \n",
       "\n",
       "                                 SETTOREECONOMICODETTAGLIO  \\\n",
       "0        Attività di famiglie e convivenze come datori ...   \n",
       "1        Gestioni di funicolari, ski-lift e seggiovie s...   \n",
       "2        Fabbricazione di altre apparecchiature elettri...   \n",
       "3                                                 Alberghi   \n",
       "4                                       Rifugi di montagna   \n",
       "...                                                    ...   \n",
       "9579789                       Lavori di meccanica generale   \n",
       "9579790                       Lavori di meccanica generale   \n",
       "9579791  Fabbricazione di parti ed accessori per bicicl...   \n",
       "9579792  Fabbricazione di parti ed accessori per bicicl...   \n",
       "9579793  Commercio all'ingrosso di abbigliamento e acce...   \n",
       "\n",
       "                                              TITOLOSTUDIO  \\\n",
       "0                                  NESSUN TITOLO DI STUDIO   \n",
       "1                                            LICENZA MEDIA   \n",
       "2                                            LICENZA MEDIA   \n",
       "3        DIPLOMA DI ISTRUZIONE SECONDARIA SUPERIORE  CH...   \n",
       "4                                            LICENZA MEDIA   \n",
       "...                                                    ...   \n",
       "9579789                                      LICENZA MEDIA   \n",
       "9579790                            NESSUN TITOLO DI STUDIO   \n",
       "9579791                            NESSUN TITOLO DI STUDIO   \n",
       "9579792                                      LICENZA MEDIA   \n",
       "9579793                                      LICENZA MEDIA   \n",
       "\n",
       "                                                 CONTRATTO MODALITALAVORO  \\\n",
       "0                                         LAVORO DOMESTICO    TEMPO PIENO   \n",
       "1                               LAVORO A TEMPO DETERMINATO    TEMPO PIENO   \n",
       "2        APPRENDISTATO PROFESSIONALIZZANTE O CONTRATTO ...    TEMPO PIENO   \n",
       "3                 LAVORO INTERMITTENTE A TEMPO DETERMINATO   NON DEFINITO   \n",
       "4                                     LAVORO INTERMITTENTE   NON DEFINITO   \n",
       "...                                                    ...            ...   \n",
       "9579789                         LAVORO A TEMPO DETERMINATO    TEMPO PIENO   \n",
       "9579790                       LAVORO A TEMPO INDETERMINATO    TEMPO PIENO   \n",
       "9579791                         LAVORO A TEMPO DETERMINATO    TEMPO PIENO   \n",
       "9579792  LAVORO INTERINALE (O A SCOPO DI SOMMINISTRAZIO...    TEMPO PIENO   \n",
       "9579793  LAVORO INTERINALE (O A SCOPO DI SOMMINISTRAZIO...            NaN   \n",
       "\n",
       "        PROVINCIAIMPRESA ITALIANO  \n",
       "0                BERGAMO  UCRAINA  \n",
       "1                BERGAMO   ITALIA  \n",
       "2                BERGAMO   ITALIA  \n",
       "3                BERGAMO   ITALIA  \n",
       "4                BERGAMO   ITALIA  \n",
       "...                  ...      ...  \n",
       "9579789          BERGAMO   ITALIA  \n",
       "9579790          BERGAMO  ALBANIA  \n",
       "9579791          BERGAMO  SENEGAL  \n",
       "9579792          BERGAMO  SENEGAL  \n",
       "9579793          BERGAMO   ITALIA  \n",
       "\n",
       "[9579794 rows x 9 columns]"
      ]
     },
     "execution_count": 4,
     "metadata": {},
     "output_type": "execute_result"
    }
   ],
   "source": [
    "df_att = pd.read_csv('Rapporti_di_lavoro_attivati.csv')\n",
    "df_att"
   ]
  },
  {
   "cell_type": "code",
   "execution_count": 5,
   "id": "statewide-action",
   "metadata": {},
   "outputs": [
    {
     "data": {
      "text/html": [
       "<div>\n",
       "<style scoped>\n",
       "    .dataframe tbody tr th:only-of-type {\n",
       "        vertical-align: middle;\n",
       "    }\n",
       "\n",
       "    .dataframe tbody tr th {\n",
       "        vertical-align: top;\n",
       "    }\n",
       "\n",
       "    .dataframe thead th {\n",
       "        text-align: right;\n",
       "    }\n",
       "</style>\n",
       "<table border=\"1\" class=\"dataframe\">\n",
       "  <thead>\n",
       "    <tr style=\"text-align: right;\">\n",
       "      <th></th>\n",
       "      <th>DATA</th>\n",
       "      <th>GENERE</th>\n",
       "      <th>ETA</th>\n",
       "      <th>SETTOREECONOMICODETTAGLIO</th>\n",
       "      <th>TITOLOSTUDIO</th>\n",
       "      <th>CONTRATTO</th>\n",
       "      <th>MODALITALAVORO</th>\n",
       "      <th>PROVINCIAIMPRESA</th>\n",
       "      <th>ITALIANO</th>\n",
       "    </tr>\n",
       "  </thead>\n",
       "  <tbody>\n",
       "    <tr>\n",
       "      <th>0</th>\n",
       "      <td>02/04/2019</td>\n",
       "      <td>M</td>\n",
       "      <td>20</td>\n",
       "      <td>Lavori di meccanica generale</td>\n",
       "      <td>DIPLOMA DI ISTRUZIONE SECONDARIA SUPERIORE  CH...</td>\n",
       "      <td>APPRENDISTATO PROFESSIONALIZZANTE O CONTRATTO ...</td>\n",
       "      <td>TEMPO PIENO</td>\n",
       "      <td>BERGAMO</td>\n",
       "      <td>ITALIA</td>\n",
       "    </tr>\n",
       "    <tr>\n",
       "      <th>1</th>\n",
       "      <td>08/06/2018</td>\n",
       "      <td>F</td>\n",
       "      <td>28</td>\n",
       "      <td>Fabbricazione di altre apparecchiature elettri...</td>\n",
       "      <td>DIPLOMA DI ISTRUZIONE SECONDARIA SUPERIORE  CH...</td>\n",
       "      <td>APPRENDISTATO PROFESSIONALIZZANTE O CONTRATTO ...</td>\n",
       "      <td>TEMPO PIENO</td>\n",
       "      <td>BERGAMO</td>\n",
       "      <td>ITALIA</td>\n",
       "    </tr>\n",
       "    <tr>\n",
       "      <th>2</th>\n",
       "      <td>02/02/2016</td>\n",
       "      <td>F</td>\n",
       "      <td>20</td>\n",
       "      <td>Fabbricazione di altre apparecchiature elettri...</td>\n",
       "      <td>DIPLOMA DI ISTRUZIONE SECONDARIA SUPERIORE  CH...</td>\n",
       "      <td>APPRENDISTATO PROFESSIONALIZZANTE O CONTRATTO ...</td>\n",
       "      <td>TEMPO PIENO</td>\n",
       "      <td>BERGAMO</td>\n",
       "      <td>ITALIA</td>\n",
       "    </tr>\n",
       "    <tr>\n",
       "      <th>3</th>\n",
       "      <td>12/01/2015</td>\n",
       "      <td>M</td>\n",
       "      <td>59</td>\n",
       "      <td>Gestioni di funicolari, ski-lift e seggiovie s...</td>\n",
       "      <td>LICENZA MEDIA</td>\n",
       "      <td>LAVORO A TEMPO DETERMINATO</td>\n",
       "      <td>TEMPO PIENO</td>\n",
       "      <td>BERGAMO</td>\n",
       "      <td>ITALIA</td>\n",
       "    </tr>\n",
       "    <tr>\n",
       "      <th>4</th>\n",
       "      <td>09/08/2017</td>\n",
       "      <td>M</td>\n",
       "      <td>61</td>\n",
       "      <td>Gestioni di funicolari, ski-lift e seggiovie s...</td>\n",
       "      <td>LICENZA MEDIA</td>\n",
       "      <td>LAVORO A TEMPO DETERMINATO</td>\n",
       "      <td>TEMPO PIENO</td>\n",
       "      <td>BERGAMO</td>\n",
       "      <td>ITALIA</td>\n",
       "    </tr>\n",
       "    <tr>\n",
       "      <th>...</th>\n",
       "      <td>...</td>\n",
       "      <td>...</td>\n",
       "      <td>...</td>\n",
       "      <td>...</td>\n",
       "      <td>...</td>\n",
       "      <td>...</td>\n",
       "      <td>...</td>\n",
       "      <td>...</td>\n",
       "      <td>...</td>\n",
       "    </tr>\n",
       "    <tr>\n",
       "      <th>3741389</th>\n",
       "      <td>05/11/2018</td>\n",
       "      <td>M</td>\n",
       "      <td>19</td>\n",
       "      <td>Fabbricazione di altri elementi in legno e di ...</td>\n",
       "      <td>TITOLO DI ISTRUZIONE SECONDARIA SUPERIORE (SCO...</td>\n",
       "      <td>LAVORO A TEMPO DETERMINATO</td>\n",
       "      <td>TEMPO PIENO</td>\n",
       "      <td>BRESCIA</td>\n",
       "      <td>ITALIA</td>\n",
       "    </tr>\n",
       "    <tr>\n",
       "      <th>3741390</th>\n",
       "      <td>09/04/2017</td>\n",
       "      <td>M</td>\n",
       "      <td>67</td>\n",
       "      <td>Altra istruzione secondaria di secondo grado d...</td>\n",
       "      <td>LAUREA - Vecchio o nuovo ordinamento</td>\n",
       "      <td>LAVORO A TEMPO INDETERMINATO</td>\n",
       "      <td>TEMPO PIENO</td>\n",
       "      <td>BRESCIA</td>\n",
       "      <td>ITALIA</td>\n",
       "    </tr>\n",
       "    <tr>\n",
       "      <th>3741391</th>\n",
       "      <td>08/05/2015</td>\n",
       "      <td>M</td>\n",
       "      <td>59</td>\n",
       "      <td>Costruzione di edifici residenziali e non resi...</td>\n",
       "      <td>NESSUN TITOLO DI STUDIO</td>\n",
       "      <td>LAVORO A TEMPO INDETERMINATO</td>\n",
       "      <td>TEMPO PIENO</td>\n",
       "      <td>BERGAMO</td>\n",
       "      <td>MAROCCO</td>\n",
       "    </tr>\n",
       "    <tr>\n",
       "      <th>3741392</th>\n",
       "      <td>10/10/2016</td>\n",
       "      <td>M</td>\n",
       "      <td>26</td>\n",
       "      <td>Installazione di altre macchine ed apparecchia...</td>\n",
       "      <td>DIPLOMA DI ISTRUZIONE SECONDARIA SUPERIORE  CH...</td>\n",
       "      <td>LAVORO A TEMPO INDETERMINATO</td>\n",
       "      <td>TEMPO PIENO</td>\n",
       "      <td>BERGAMO</td>\n",
       "      <td>ITALIA</td>\n",
       "    </tr>\n",
       "    <tr>\n",
       "      <th>3741393</th>\n",
       "      <td>09/10/2018</td>\n",
       "      <td>M</td>\n",
       "      <td>45</td>\n",
       "      <td>Fabbricazione di strutture metalliche e parti ...</td>\n",
       "      <td>LICENZA MEDIA</td>\n",
       "      <td>LAVORO A TEMPO INDETERMINATO</td>\n",
       "      <td>TEMPO PIENO</td>\n",
       "      <td>BERGAMO</td>\n",
       "      <td>ITALIA</td>\n",
       "    </tr>\n",
       "  </tbody>\n",
       "</table>\n",
       "<p>3741394 rows × 9 columns</p>\n",
       "</div>"
      ],
      "text/plain": [
       "               DATA GENERE  ETA  \\\n",
       "0        02/04/2019      M   20   \n",
       "1        08/06/2018      F   28   \n",
       "2        02/02/2016      F   20   \n",
       "3        12/01/2015      M   59   \n",
       "4        09/08/2017      M   61   \n",
       "...             ...    ...  ...   \n",
       "3741389  05/11/2018      M   19   \n",
       "3741390  09/04/2017      M   67   \n",
       "3741391  08/05/2015      M   59   \n",
       "3741392  10/10/2016      M   26   \n",
       "3741393  09/10/2018      M   45   \n",
       "\n",
       "                                 SETTOREECONOMICODETTAGLIO  \\\n",
       "0                             Lavori di meccanica generale   \n",
       "1        Fabbricazione di altre apparecchiature elettri...   \n",
       "2        Fabbricazione di altre apparecchiature elettri...   \n",
       "3        Gestioni di funicolari, ski-lift e seggiovie s...   \n",
       "4        Gestioni di funicolari, ski-lift e seggiovie s...   \n",
       "...                                                    ...   \n",
       "3741389  Fabbricazione di altri elementi in legno e di ...   \n",
       "3741390  Altra istruzione secondaria di secondo grado d...   \n",
       "3741391  Costruzione di edifici residenziali e non resi...   \n",
       "3741392  Installazione di altre macchine ed apparecchia...   \n",
       "3741393  Fabbricazione di strutture metalliche e parti ...   \n",
       "\n",
       "                                              TITOLOSTUDIO  \\\n",
       "0        DIPLOMA DI ISTRUZIONE SECONDARIA SUPERIORE  CH...   \n",
       "1        DIPLOMA DI ISTRUZIONE SECONDARIA SUPERIORE  CH...   \n",
       "2        DIPLOMA DI ISTRUZIONE SECONDARIA SUPERIORE  CH...   \n",
       "3                                            LICENZA MEDIA   \n",
       "4                                            LICENZA MEDIA   \n",
       "...                                                    ...   \n",
       "3741389  TITOLO DI ISTRUZIONE SECONDARIA SUPERIORE (SCO...   \n",
       "3741390               LAUREA - Vecchio o nuovo ordinamento   \n",
       "3741391                            NESSUN TITOLO DI STUDIO   \n",
       "3741392  DIPLOMA DI ISTRUZIONE SECONDARIA SUPERIORE  CH...   \n",
       "3741393                                      LICENZA MEDIA   \n",
       "\n",
       "                                                 CONTRATTO MODALITALAVORO  \\\n",
       "0        APPRENDISTATO PROFESSIONALIZZANTE O CONTRATTO ...    TEMPO PIENO   \n",
       "1        APPRENDISTATO PROFESSIONALIZZANTE O CONTRATTO ...    TEMPO PIENO   \n",
       "2        APPRENDISTATO PROFESSIONALIZZANTE O CONTRATTO ...    TEMPO PIENO   \n",
       "3                               LAVORO A TEMPO DETERMINATO    TEMPO PIENO   \n",
       "4                               LAVORO A TEMPO DETERMINATO    TEMPO PIENO   \n",
       "...                                                    ...            ...   \n",
       "3741389                         LAVORO A TEMPO DETERMINATO    TEMPO PIENO   \n",
       "3741390                       LAVORO A TEMPO INDETERMINATO    TEMPO PIENO   \n",
       "3741391                       LAVORO A TEMPO INDETERMINATO    TEMPO PIENO   \n",
       "3741392                       LAVORO A TEMPO INDETERMINATO    TEMPO PIENO   \n",
       "3741393                       LAVORO A TEMPO INDETERMINATO    TEMPO PIENO   \n",
       "\n",
       "        PROVINCIAIMPRESA ITALIANO  \n",
       "0                BERGAMO   ITALIA  \n",
       "1                BERGAMO   ITALIA  \n",
       "2                BERGAMO   ITALIA  \n",
       "3                BERGAMO   ITALIA  \n",
       "4                BERGAMO   ITALIA  \n",
       "...                  ...      ...  \n",
       "3741389          BRESCIA   ITALIA  \n",
       "3741390          BRESCIA   ITALIA  \n",
       "3741391          BERGAMO  MAROCCO  \n",
       "3741392          BERGAMO   ITALIA  \n",
       "3741393          BERGAMO   ITALIA  \n",
       "\n",
       "[3741394 rows x 9 columns]"
      ]
     },
     "execution_count": 5,
     "metadata": {},
     "output_type": "execute_result"
    }
   ],
   "source": [
    "df_ces = pd.read_csv('Rapporti_di_lavoro_cessati.csv')\n",
    "df_ces"
   ]
  },
  {
   "cell_type": "markdown",
   "id": "after-retrieval",
   "metadata": {},
   "source": [
    "# Data Cleaning\n",
    "Let's drop null values from datasets"
   ]
  },
  {
   "cell_type": "code",
   "execution_count": 6,
   "id": "systematic-weekend",
   "metadata": {},
   "outputs": [],
   "source": [
    "df_att.dropna(axis=0, how='any', inplace=True)\n",
    "df_ces.dropna(axis=0, how='any', inplace=True)"
   ]
  },
  {
   "cell_type": "markdown",
   "id": "significant-hartford",
   "metadata": {},
   "source": [
    "Drop the column named \"ITALIANO\", not useful for this type for next analysis"
   ]
  },
  {
   "cell_type": "code",
   "execution_count": 7,
   "id": "compatible-productivity",
   "metadata": {},
   "outputs": [],
   "source": [
    "df_att.drop(\"ITALIANO\", axis=1, inplace=True)\n",
    "df_ces.drop(\"ITALIANO\", axis=1, inplace=True)"
   ]
  },
  {
   "cell_type": "markdown",
   "id": "particular-noise",
   "metadata": {},
   "source": [
    "Convert the colunm <code>\"DATE\"</code> in a date Python object"
   ]
  },
  {
   "cell_type": "code",
   "execution_count": 8,
   "id": "macro-canberra",
   "metadata": {},
   "outputs": [
    {
     "data": {
      "text/plain": [
       "DATA\n",
       "1973-01-02       1\n",
       "1974-06-11       1\n",
       "1976-10-01       1\n",
       "1978-05-01       1\n",
       "1978-07-10       1\n",
       "              ... \n",
       "2021-12-06    1097\n",
       "2021-12-07    6872\n",
       "2021-12-08    4960\n",
       "2021-12-09     601\n",
       "2201-09-06       1\n",
       "Name: DATA, Length: 2001, dtype: int64"
      ]
     },
     "execution_count": 8,
     "metadata": {},
     "output_type": "execute_result"
    }
   ],
   "source": [
    "df_att['DATA'] = pd.to_datetime(df_att['DATA'], format=\"%d/%m/%Y\", errors='coerce')\n",
    "\n",
    "# remove NaT values, date that coudn't be converted from string to Python date object\n",
    "df_att.dropna(axis=0, how='any', inplace=True)\n",
    "\n",
    "df_att.groupby(\"DATA\")[\"DATA\"].count()"
   ]
  },
  {
   "cell_type": "code",
   "execution_count": 9,
   "id": "center-polls",
   "metadata": {},
   "outputs": [
    {
     "data": {
      "text/plain": [
       "DATA\n",
       "1988-01-05       1\n",
       "1988-12-07       1\n",
       "1989-10-04       1\n",
       "1990-06-04       1\n",
       "1992-09-04       1\n",
       "              ... \n",
       "2021-12-05    2247\n",
       "2021-12-06     168\n",
       "2021-12-07    2970\n",
       "2021-12-08    1303\n",
       "2021-12-09     115\n",
       "Name: DATA, Length: 2322, dtype: int64"
      ]
     },
     "execution_count": 9,
     "metadata": {},
     "output_type": "execute_result"
    }
   ],
   "source": [
    "df_ces[\"DATA\"] = pd.to_datetime(df_ces[\"DATA\"], format=\"%d/%m/%Y\", errors='coerce')\n",
    "\n",
    "# remove NaT values, date that coudn't be converted from string to Python date object\n",
    "df_ces.dropna(axis=0, how='any', inplace=True)\n",
    "\n",
    "df_ces.groupby(\"DATA\")[\"DATA\"].count()"
   ]
  },
  {
   "cell_type": "markdown",
   "id": "1a56f183-4cec-4d40-9c5f-c67ffa95aaa5",
   "metadata": {},
   "source": [
    "As you can see there is data with date in the future, this is a mistake in the dataset, i am going to remove all tuple with date >= today"
   ]
  },
  {
   "cell_type": "code",
   "execution_count": 10,
   "id": "packed-salem",
   "metadata": {},
   "outputs": [],
   "source": [
    "today = datetime.today().strftime('%Y-%m-%d')\n",
    "df_att = df_att.loc[(df_att[\"DATA\"] < today)]\n",
    "df_ces = df_ces.loc[(df_ces[\"DATA\"] < today)]"
   ]
  },
  {
   "cell_type": "code",
   "execution_count": 11,
   "id": "a25481a5-e222-444a-9aab-392c9dd7363a",
   "metadata": {},
   "outputs": [
    {
     "data": {
      "text/plain": [
       "<AxesSubplot:>"
      ]
     },
     "execution_count": 11,
     "metadata": {},
     "output_type": "execute_result"
    },
    {
     "data": {
      "image/png": "[encoded data removed]",
      "text/plain": [
       "<Figure size 432x288 with 1 Axes>"
      ]
     },
     "metadata": {
      "needs_background": "light"
     },
     "output_type": "display_data"
    }
   ],
   "source": [
    "df_att[\"ETA\"].hist()"
   ]
  },
  {
   "cell_type": "code",
   "execution_count": 12,
   "id": "8953d716-d10b-4989-b329-90dc74eac286",
   "metadata": {},
   "outputs": [
    {
     "data": {
      "text/plain": [
       "<AxesSubplot:>"
      ]
     },
     "execution_count": 12,
     "metadata": {},
     "output_type": "execute_result"
    },
    {
     "data": {
      "image/png": "[encoded data removed]",
      "text/plain": [
       "<Figure size 432x288 with 1 Axes>"
      ]
     },
     "metadata": {
      "needs_background": "light"
     },
     "output_type": "display_data"
    }
   ],
   "source": [
    "df_ces[\"ETA\"].hist()"
   ]
  },
  {
   "cell_type": "markdown",
   "id": "6727d72c-6e14-47ef-8c22-d48b80eda265",
   "metadata": {},
   "source": [
    "As we can see there entry that presente an age < 16, is illegal to work in italy until 16 years old, moreover the retirement age in italy is about 67 years old so we can delete all entries with age < 16 and age > 67 that are probablz in error in the dataset."
   ]
  },
  {
   "cell_type": "code",
   "execution_count": 13,
   "id": "089f515e-d003-4660-b969-06a8fdac3f32",
   "metadata": {},
   "outputs": [
    {
     "data": {
      "text/html": [
       "<div>\n",
       "<style scoped>\n",
       "    .dataframe tbody tr th:only-of-type {\n",
       "        vertical-align: middle;\n",
       "    }\n",
       "\n",
       "    .dataframe tbody tr th {\n",
       "        vertical-align: top;\n",
       "    }\n",
       "\n",
       "    .dataframe thead th {\n",
       "        text-align: right;\n",
       "    }\n",
       "</style>\n",
       "<table border=\"1\" class=\"dataframe\">\n",
       "  <thead>\n",
       "    <tr style=\"text-align: right;\">\n",
       "      <th></th>\n",
       "      <th>DATA</th>\n",
       "      <th>GENERE</th>\n",
       "      <th>ETA</th>\n",
       "      <th>SETTOREECONOMICODETTAGLIO</th>\n",
       "      <th>TITOLOSTUDIO</th>\n",
       "      <th>CONTRATTO</th>\n",
       "      <th>MODALITALAVORO</th>\n",
       "      <th>PROVINCIAIMPRESA</th>\n",
       "    </tr>\n",
       "  </thead>\n",
       "  <tbody>\n",
       "    <tr>\n",
       "      <th>546</th>\n",
       "      <td>2019-12-07</td>\n",
       "      <td>M</td>\n",
       "      <td>95</td>\n",
       "      <td>Attività di organizzazioni che perseguono fini...</td>\n",
       "      <td>LAUREA - Vecchio o nuovo ordinamento</td>\n",
       "      <td>LAVORO AUTONOMO NELLO SPETTACOLO</td>\n",
       "      <td>NON DEFINITO</td>\n",
       "      <td>LECCO</td>\n",
       "    </tr>\n",
       "    <tr>\n",
       "      <th>964</th>\n",
       "      <td>2013-08-04</td>\n",
       "      <td>M</td>\n",
       "      <td>68</td>\n",
       "      <td>Attività di famiglie e convivenze come datori ...</td>\n",
       "      <td>NESSUN TITOLO DI STUDIO</td>\n",
       "      <td>LAVORO DOMESTICO</td>\n",
       "      <td>TEMPO PARZIALE ORIZZONTALE</td>\n",
       "      <td>LECCO</td>\n",
       "    </tr>\n",
       "    <tr>\n",
       "      <th>1480</th>\n",
       "      <td>2020-05-02</td>\n",
       "      <td>M</td>\n",
       "      <td>68</td>\n",
       "      <td>Coltivazioni agricole associate all'allevament...</td>\n",
       "      <td>LICENZA MEDIA</td>\n",
       "      <td>LAVORO A TEMPO DETERMINATO</td>\n",
       "      <td>TEMPO PIENO</td>\n",
       "      <td>LODI</td>\n",
       "    </tr>\n",
       "    <tr>\n",
       "      <th>1521</th>\n",
       "      <td>2019-08-08</td>\n",
       "      <td>M</td>\n",
       "      <td>70</td>\n",
       "      <td>Coltivazioni miste di cereali, legumi da grane...</td>\n",
       "      <td>NESSUN TITOLO DI STUDIO</td>\n",
       "      <td>LAVORO A TEMPO DETERMINATO</td>\n",
       "      <td>TEMPO PIENO</td>\n",
       "      <td>MANTOVA</td>\n",
       "    </tr>\n",
       "    <tr>\n",
       "      <th>1574</th>\n",
       "      <td>2020-12-02</td>\n",
       "      <td>M</td>\n",
       "      <td>71</td>\n",
       "      <td>Coltivazione di cereali (escluso il riso)</td>\n",
       "      <td>LICENZA MEDIA</td>\n",
       "      <td>LAVORO A TEMPO DETERMINATO</td>\n",
       "      <td>TEMPO PIENO</td>\n",
       "      <td>MANTOVA</td>\n",
       "    </tr>\n",
       "    <tr>\n",
       "      <th>...</th>\n",
       "      <td>...</td>\n",
       "      <td>...</td>\n",
       "      <td>...</td>\n",
       "      <td>...</td>\n",
       "      <td>...</td>\n",
       "      <td>...</td>\n",
       "      <td>...</td>\n",
       "      <td>...</td>\n",
       "    </tr>\n",
       "    <tr>\n",
       "      <th>9578758</th>\n",
       "      <td>2020-12-11</td>\n",
       "      <td>F</td>\n",
       "      <td>10</td>\n",
       "      <td>Programmazione e trasmissioni televisive</td>\n",
       "      <td>DIPLOMA DI ISTRUZIONE SECONDARIA SUPERIORE  CH...</td>\n",
       "      <td>LAVORO AUTONOMO NELLO SPETTACOLO</td>\n",
       "      <td>NON DEFINITO</td>\n",
       "      <td>MILANO</td>\n",
       "    </tr>\n",
       "    <tr>\n",
       "      <th>9578816</th>\n",
       "      <td>2016-01-08</td>\n",
       "      <td>M</td>\n",
       "      <td>69</td>\n",
       "      <td>Riproduzione di supporti registrati</td>\n",
       "      <td>DIPLOMA DI ISTRUZIONE SECONDARIA SUPERIORE  CH...</td>\n",
       "      <td>LAVORO AUTONOMO NELLO SPETTACOLO</td>\n",
       "      <td>NON DEFINITO</td>\n",
       "      <td>MILANO</td>\n",
       "    </tr>\n",
       "    <tr>\n",
       "      <th>9578891</th>\n",
       "      <td>2010-01-04</td>\n",
       "      <td>M</td>\n",
       "      <td>68</td>\n",
       "      <td>Costruzione di edifici residenziali e non resi...</td>\n",
       "      <td>NESSUN TITOLO DI STUDIO</td>\n",
       "      <td>LAVORO A TEMPO DETERMINATO</td>\n",
       "      <td>TEMPO PIENO</td>\n",
       "      <td>BRESCIA</td>\n",
       "    </tr>\n",
       "    <tr>\n",
       "      <th>9579417</th>\n",
       "      <td>2018-10-07</td>\n",
       "      <td>F</td>\n",
       "      <td>73</td>\n",
       "      <td>Legatoria e servizi connessi</td>\n",
       "      <td>DIPLOMA DI ISTRUZIONE SECONDARIA SUPERIORE  CH...</td>\n",
       "      <td>LAVORO A TEMPO INDETERMINATO</td>\n",
       "      <td>TEMPO PARZIALE ORIZZONTALE</td>\n",
       "      <td>CREMONA</td>\n",
       "    </tr>\n",
       "    <tr>\n",
       "      <th>9579538</th>\n",
       "      <td>2012-09-08</td>\n",
       "      <td>F</td>\n",
       "      <td>0</td>\n",
       "      <td>Ideazione di campagne pubblicitarie</td>\n",
       "      <td>DIPLOMA DI SPECIALIZZAZIONE</td>\n",
       "      <td>LAVORO INTERMITTENTE A TEMPO DETERMINATO</td>\n",
       "      <td>NON DEFINITO</td>\n",
       "      <td>MANTOVA</td>\n",
       "    </tr>\n",
       "  </tbody>\n",
       "</table>\n",
       "<p>60159 rows × 8 columns</p>\n",
       "</div>"
      ],
      "text/plain": [
       "              DATA GENERE  ETA  \\\n",
       "546     2019-12-07      M   95   \n",
       "964     2013-08-04      M   68   \n",
       "1480    2020-05-02      M   68   \n",
       "1521    2019-08-08      M   70   \n",
       "1574    2020-12-02      M   71   \n",
       "...            ...    ...  ...   \n",
       "9578758 2020-12-11      F   10   \n",
       "9578816 2016-01-08      M   69   \n",
       "9578891 2010-01-04      M   68   \n",
       "9579417 2018-10-07      F   73   \n",
       "9579538 2012-09-08      F    0   \n",
       "\n",
       "                                 SETTOREECONOMICODETTAGLIO  \\\n",
       "546      Attività di organizzazioni che perseguono fini...   \n",
       "964      Attività di famiglie e convivenze come datori ...   \n",
       "1480     Coltivazioni agricole associate all'allevament...   \n",
       "1521     Coltivazioni miste di cereali, legumi da grane...   \n",
       "1574             Coltivazione di cereali (escluso il riso)   \n",
       "...                                                    ...   \n",
       "9578758           Programmazione e trasmissioni televisive   \n",
       "9578816                Riproduzione di supporti registrati   \n",
       "9578891  Costruzione di edifici residenziali e non resi...   \n",
       "9579417                       Legatoria e servizi connessi   \n",
       "9579538                Ideazione di campagne pubblicitarie   \n",
       "\n",
       "                                              TITOLOSTUDIO  \\\n",
       "546                   LAUREA - Vecchio o nuovo ordinamento   \n",
       "964                                NESSUN TITOLO DI STUDIO   \n",
       "1480                                         LICENZA MEDIA   \n",
       "1521                               NESSUN TITOLO DI STUDIO   \n",
       "1574                                         LICENZA MEDIA   \n",
       "...                                                    ...   \n",
       "9578758  DIPLOMA DI ISTRUZIONE SECONDARIA SUPERIORE  CH...   \n",
       "9578816  DIPLOMA DI ISTRUZIONE SECONDARIA SUPERIORE  CH...   \n",
       "9578891                            NESSUN TITOLO DI STUDIO   \n",
       "9579417  DIPLOMA DI ISTRUZIONE SECONDARIA SUPERIORE  CH...   \n",
       "9579538                        DIPLOMA DI SPECIALIZZAZIONE   \n",
       "\n",
       "                                        CONTRATTO              MODALITALAVORO  \\\n",
       "546              LAVORO AUTONOMO NELLO SPETTACOLO                NON DEFINITO   \n",
       "964                              LAVORO DOMESTICO  TEMPO PARZIALE ORIZZONTALE   \n",
       "1480                   LAVORO A TEMPO DETERMINATO                 TEMPO PIENO   \n",
       "1521                   LAVORO A TEMPO DETERMINATO                 TEMPO PIENO   \n",
       "1574                   LAVORO A TEMPO DETERMINATO                 TEMPO PIENO   \n",
       "...                                           ...                         ...   \n",
       "9578758          LAVORO AUTONOMO NELLO SPETTACOLO                NON DEFINITO   \n",
       "9578816          LAVORO AUTONOMO NELLO SPETTACOLO                NON DEFINITO   \n",
       "9578891                LAVORO A TEMPO DETERMINATO                 TEMPO PIENO   \n",
       "9579417              LAVORO A TEMPO INDETERMINATO  TEMPO PARZIALE ORIZZONTALE   \n",
       "9579538  LAVORO INTERMITTENTE A TEMPO DETERMINATO                NON DEFINITO   \n",
       "\n",
       "        PROVINCIAIMPRESA  \n",
       "546                LECCO  \n",
       "964                LECCO  \n",
       "1480                LODI  \n",
       "1521             MANTOVA  \n",
       "1574             MANTOVA  \n",
       "...                  ...  \n",
       "9578758           MILANO  \n",
       "9578816           MILANO  \n",
       "9578891          BRESCIA  \n",
       "9579417          CREMONA  \n",
       "9579538          MANTOVA  \n",
       "\n",
       "[60159 rows x 8 columns]"
      ]
     },
     "execution_count": 13,
     "metadata": {},
     "output_type": "execute_result"
    }
   ],
   "source": [
    "df_att.loc[(df_att[\"ETA\"] < 16) | (df_att[\"ETA\"] > 67)]"
   ]
  },
  {
   "cell_type": "code",
   "execution_count": 14,
   "id": "3a4f6f92-3366-4fd2-b182-1e8b77bf5f84",
   "metadata": {},
   "outputs": [
    {
     "data": {
      "text/html": [
       "<div>\n",
       "<style scoped>\n",
       "    .dataframe tbody tr th:only-of-type {\n",
       "        vertical-align: middle;\n",
       "    }\n",
       "\n",
       "    .dataframe tbody tr th {\n",
       "        vertical-align: top;\n",
       "    }\n",
       "\n",
       "    .dataframe thead th {\n",
       "        text-align: right;\n",
       "    }\n",
       "</style>\n",
       "<table border=\"1\" class=\"dataframe\">\n",
       "  <thead>\n",
       "    <tr style=\"text-align: right;\">\n",
       "      <th></th>\n",
       "      <th>DATA</th>\n",
       "      <th>GENERE</th>\n",
       "      <th>ETA</th>\n",
       "      <th>SETTOREECONOMICODETTAGLIO</th>\n",
       "      <th>TITOLOSTUDIO</th>\n",
       "      <th>CONTRATTO</th>\n",
       "      <th>MODALITALAVORO</th>\n",
       "      <th>PROVINCIAIMPRESA</th>\n",
       "    </tr>\n",
       "  </thead>\n",
       "  <tbody>\n",
       "    <tr>\n",
       "      <th>88</th>\n",
       "      <td>2018-11-12</td>\n",
       "      <td>M</td>\n",
       "      <td>70</td>\n",
       "      <td>Trasporto aereo non di linea di passeggeri; vo...</td>\n",
       "      <td>DIPLOMA DI ISTRUZIONE SECONDARIA SUPERIORE  CH...</td>\n",
       "      <td>LAVORO A TEMPO INDETERMINATO</td>\n",
       "      <td>TEMPO PIENO</td>\n",
       "      <td>LECCO</td>\n",
       "    </tr>\n",
       "    <tr>\n",
       "      <th>159</th>\n",
       "      <td>2017-02-11</td>\n",
       "      <td>F</td>\n",
       "      <td>73</td>\n",
       "      <td>Altre strutture di assistenza sociale residenz...</td>\n",
       "      <td>DIPLOMA DI ISTRUZIONE SECONDARIA SUPERIORE  CH...</td>\n",
       "      <td>LAVORO A TEMPO DETERMINATO</td>\n",
       "      <td>TEMPO PARZIALE ORIZZONTALE</td>\n",
       "      <td>LECCO</td>\n",
       "    </tr>\n",
       "    <tr>\n",
       "      <th>234</th>\n",
       "      <td>2010-09-12</td>\n",
       "      <td>F</td>\n",
       "      <td>69</td>\n",
       "      <td>Attività di famiglie e convivenze come datori ...</td>\n",
       "      <td>NESSUN TITOLO DI STUDIO</td>\n",
       "      <td>LAVORO DOMESTICO A TEMPO INDETERMINATO</td>\n",
       "      <td>TEMPO PARZIALE ORIZZONTALE</td>\n",
       "      <td>LECCO</td>\n",
       "    </tr>\n",
       "    <tr>\n",
       "      <th>413</th>\n",
       "      <td>2012-01-06</td>\n",
       "      <td>M</td>\n",
       "      <td>69</td>\n",
       "      <td>Installazione di impianti elettrici in edifici...</td>\n",
       "      <td>TITOLO DI ISTRUZIONE SECONDARIA SUPERIORE (SCO...</td>\n",
       "      <td>ASSOCIAZIONE IN PARTECIPAZIONE A TEMPO DETERMI...</td>\n",
       "      <td>TEMPO PIENO</td>\n",
       "      <td>LECCO</td>\n",
       "    </tr>\n",
       "    <tr>\n",
       "      <th>505</th>\n",
       "      <td>2010-04-01</td>\n",
       "      <td>M</td>\n",
       "      <td>69</td>\n",
       "      <td>Costruzione di edifici residenziali e non resi...</td>\n",
       "      <td>LICENZA MEDIA</td>\n",
       "      <td>LAVORO OCCASIONALE</td>\n",
       "      <td>NON DEFINITO</td>\n",
       "      <td>LECCO</td>\n",
       "    </tr>\n",
       "    <tr>\n",
       "      <th>...</th>\n",
       "      <td>...</td>\n",
       "      <td>...</td>\n",
       "      <td>...</td>\n",
       "      <td>...</td>\n",
       "      <td>...</td>\n",
       "      <td>...</td>\n",
       "      <td>...</td>\n",
       "      <td>...</td>\n",
       "    </tr>\n",
       "    <tr>\n",
       "      <th>3740795</th>\n",
       "      <td>2019-04-11</td>\n",
       "      <td>M</td>\n",
       "      <td>75</td>\n",
       "      <td>Ristorazione con somministrazione</td>\n",
       "      <td>DIPLOMA DI ISTRUZIONE SECONDARIA SUPERIORE  CH...</td>\n",
       "      <td>LAVORO A TEMPO DETERMINATO</td>\n",
       "      <td>TEMPO PIENO</td>\n",
       "      <td>PAVIA</td>\n",
       "    </tr>\n",
       "    <tr>\n",
       "      <th>3740820</th>\n",
       "      <td>2016-01-09</td>\n",
       "      <td>M</td>\n",
       "      <td>76</td>\n",
       "      <td>Attività di supporto alla produzione vegetale</td>\n",
       "      <td>LICENZA MEDIA</td>\n",
       "      <td>LAVORO A TEMPO DETERMINATO</td>\n",
       "      <td>TEMPO PIENO</td>\n",
       "      <td>PAVIA</td>\n",
       "    </tr>\n",
       "    <tr>\n",
       "      <th>3740960</th>\n",
       "      <td>2009-06-07</td>\n",
       "      <td>M</td>\n",
       "      <td>68</td>\n",
       "      <td>Costruzione di edifici residenziali e non resi...</td>\n",
       "      <td>TITOLO DI ISTRUZIONE SECONDARIA SUPERIORE (SCO...</td>\n",
       "      <td>LAVORO INTERMITTENTE  A TEMPO INDETERMINATO</td>\n",
       "      <td>TEMPO PIENO</td>\n",
       "      <td>BRESCIA</td>\n",
       "    </tr>\n",
       "    <tr>\n",
       "      <th>3741262</th>\n",
       "      <td>2011-01-06</td>\n",
       "      <td>M</td>\n",
       "      <td>70</td>\n",
       "      <td>Commercio al dettaglio di carburante per autot...</td>\n",
       "      <td>TITOLO DI ISTRUZIONE SECONDARIA SUPERIORE (SCO...</td>\n",
       "      <td>LAVORO A PROGETTO / COLLABORAZIONE COORDINATA ...</td>\n",
       "      <td>NON DEFINITO</td>\n",
       "      <td>BERGAMO</td>\n",
       "    </tr>\n",
       "    <tr>\n",
       "      <th>3741325</th>\n",
       "      <td>2019-05-11</td>\n",
       "      <td>M</td>\n",
       "      <td>69</td>\n",
       "      <td>Altre attività di costruzione di altre opere d...</td>\n",
       "      <td>LICENZA MEDIA</td>\n",
       "      <td>LAVORO A TEMPO INDETERMINATO</td>\n",
       "      <td>TEMPO PIENO</td>\n",
       "      <td>BERGAMO</td>\n",
       "    </tr>\n",
       "  </tbody>\n",
       "</table>\n",
       "<p>27271 rows × 8 columns</p>\n",
       "</div>"
      ],
      "text/plain": [
       "              DATA GENERE  ETA  \\\n",
       "88      2018-11-12      M   70   \n",
       "159     2017-02-11      F   73   \n",
       "234     2010-09-12      F   69   \n",
       "413     2012-01-06      M   69   \n",
       "505     2010-04-01      M   69   \n",
       "...            ...    ...  ...   \n",
       "3740795 2019-04-11      M   75   \n",
       "3740820 2016-01-09      M   76   \n",
       "3740960 2009-06-07      M   68   \n",
       "3741262 2011-01-06      M   70   \n",
       "3741325 2019-05-11      M   69   \n",
       "\n",
       "                                 SETTOREECONOMICODETTAGLIO  \\\n",
       "88       Trasporto aereo non di linea di passeggeri; vo...   \n",
       "159      Altre strutture di assistenza sociale residenz...   \n",
       "234      Attività di famiglie e convivenze come datori ...   \n",
       "413      Installazione di impianti elettrici in edifici...   \n",
       "505      Costruzione di edifici residenziali e non resi...   \n",
       "...                                                    ...   \n",
       "3740795                  Ristorazione con somministrazione   \n",
       "3740820      Attività di supporto alla produzione vegetale   \n",
       "3740960  Costruzione di edifici residenziali e non resi...   \n",
       "3741262  Commercio al dettaglio di carburante per autot...   \n",
       "3741325  Altre attività di costruzione di altre opere d...   \n",
       "\n",
       "                                              TITOLOSTUDIO  \\\n",
       "88       DIPLOMA DI ISTRUZIONE SECONDARIA SUPERIORE  CH...   \n",
       "159      DIPLOMA DI ISTRUZIONE SECONDARIA SUPERIORE  CH...   \n",
       "234                                NESSUN TITOLO DI STUDIO   \n",
       "413      TITOLO DI ISTRUZIONE SECONDARIA SUPERIORE (SCO...   \n",
       "505                                          LICENZA MEDIA   \n",
       "...                                                    ...   \n",
       "3740795  DIPLOMA DI ISTRUZIONE SECONDARIA SUPERIORE  CH...   \n",
       "3740820                                      LICENZA MEDIA   \n",
       "3740960  TITOLO DI ISTRUZIONE SECONDARIA SUPERIORE (SCO...   \n",
       "3741262  TITOLO DI ISTRUZIONE SECONDARIA SUPERIORE (SCO...   \n",
       "3741325                                      LICENZA MEDIA   \n",
       "\n",
       "                                                 CONTRATTO  \\\n",
       "88                            LAVORO A TEMPO INDETERMINATO   \n",
       "159                             LAVORO A TEMPO DETERMINATO   \n",
       "234                 LAVORO DOMESTICO A TEMPO INDETERMINATO   \n",
       "413      ASSOCIAZIONE IN PARTECIPAZIONE A TEMPO DETERMI...   \n",
       "505                                     LAVORO OCCASIONALE   \n",
       "...                                                    ...   \n",
       "3740795                         LAVORO A TEMPO DETERMINATO   \n",
       "3740820                         LAVORO A TEMPO DETERMINATO   \n",
       "3740960        LAVORO INTERMITTENTE  A TEMPO INDETERMINATO   \n",
       "3741262  LAVORO A PROGETTO / COLLABORAZIONE COORDINATA ...   \n",
       "3741325                       LAVORO A TEMPO INDETERMINATO   \n",
       "\n",
       "                     MODALITALAVORO PROVINCIAIMPRESA  \n",
       "88                      TEMPO PIENO            LECCO  \n",
       "159      TEMPO PARZIALE ORIZZONTALE            LECCO  \n",
       "234      TEMPO PARZIALE ORIZZONTALE            LECCO  \n",
       "413                     TEMPO PIENO            LECCO  \n",
       "505                    NON DEFINITO            LECCO  \n",
       "...                             ...              ...  \n",
       "3740795                 TEMPO PIENO            PAVIA  \n",
       "3740820                 TEMPO PIENO            PAVIA  \n",
       "3740960                 TEMPO PIENO          BRESCIA  \n",
       "3741262                NON DEFINITO          BERGAMO  \n",
       "3741325                 TEMPO PIENO          BERGAMO  \n",
       "\n",
       "[27271 rows x 8 columns]"
      ]
     },
     "execution_count": 14,
     "metadata": {},
     "output_type": "execute_result"
    }
   ],
   "source": [
    "df_ces.loc[(df_ces[\"ETA\"] < 16) | (df_ces[\"ETA\"] > 67)]"
   ]
  },
  {
   "cell_type": "code",
   "execution_count": 15,
   "id": "fea350ea-936a-41a5-ae4a-dbb4a313e644",
   "metadata": {},
   "outputs": [],
   "source": [
    "df_att = df_att.loc[(df_att[\"ETA\"] >= 16) & (df_att[\"ETA\"] <= 67)]\n",
    "df_ces = df_ces.loc[(df_ces[\"ETA\"] >= 16) & (df_ces[\"ETA\"] <= 67)]"
   ]
  },
  {
   "cell_type": "markdown",
   "id": "f6b9e4c8-13f3-4255-a5a7-212b5f189cb3",
   "metadata": {},
   "source": [
    "# Data Sampling\n",
    "In this analysisi only data from 2010 to 2021 is taken in account, so let's remove data outside this intervall and then take 100000 samples"
   ]
  },
  {
   "cell_type": "code",
   "execution_count": 16,
   "id": "3f030f31-b7e4-4ed3-8bcb-4eb20d16206f",
   "metadata": {},
   "outputs": [],
   "source": [
    "from_date = \"2010-01-01\"\n",
    "to_date = \"2021-12-31\"\n",
    "df_att = df_att.loc[(df_att[\"DATA\"]>=from_date) & (df_att[\"DATA\"]<=to_date)]\n",
    "df_ces = df_ces.loc[(df_ces[\"DATA\"]>=from_date) & (df_ces[\"DATA\"]<=to_date)]"
   ]
  },
  {
   "cell_type": "markdown",
   "id": "60d50175-0831-43a1-99e9-d2f02bf96130",
   "metadata": {},
   "source": [
    "Let's take 100000 samples from each dataset"
   ]
  },
  {
   "cell_type": "code",
   "execution_count": 17,
   "id": "dd2a21bb-3382-40ea-986a-53262f32ec25",
   "metadata": {},
   "outputs": [],
   "source": [
    "# take 100000 samples from the datasets\n",
    "df_att = df_att.sample(n=100000,replace=False)\n",
    "df_ces = df_ces.sample(n=100000, replace=False)"
   ]
  },
  {
   "cell_type": "markdown",
   "id": "modified-filling",
   "metadata": {},
   "source": [
    "# Statistics"
   ]
  },
  {
   "cell_type": "markdown",
   "id": "fb60a6a3-be35-4d8b-9adb-b83c50279fb8",
   "metadata": {},
   "source": [
    "Let's start calculating some statstics metrics for numerical columns, in this case only the age column <code>\"ETA\"</code>"
   ]
  },
  {
   "cell_type": "code",
   "execution_count": 18,
   "id": "bc3c849c-3732-401b-8fd0-6d13f2380171",
   "metadata": {},
   "outputs": [
    {
     "name": "stdout",
     "output_type": "stream",
     "text": [
      "Activated Contracts dataset\n"
     ]
    },
    {
     "data": {
      "text/html": [
       "<div>\n",
       "<style scoped>\n",
       "    .dataframe tbody tr th:only-of-type {\n",
       "        vertical-align: middle;\n",
       "    }\n",
       "\n",
       "    .dataframe tbody tr th {\n",
       "        vertical-align: top;\n",
       "    }\n",
       "\n",
       "    .dataframe thead th {\n",
       "        text-align: right;\n",
       "    }\n",
       "</style>\n",
       "<table border=\"1\" class=\"dataframe\">\n",
       "  <thead>\n",
       "    <tr style=\"text-align: right;\">\n",
       "      <th></th>\n",
       "      <th>ETA</th>\n",
       "    </tr>\n",
       "  </thead>\n",
       "  <tbody>\n",
       "    <tr>\n",
       "      <th>count</th>\n",
       "      <td>100000.00000</td>\n",
       "    </tr>\n",
       "    <tr>\n",
       "      <th>mean</th>\n",
       "      <td>35.27370</td>\n",
       "    </tr>\n",
       "    <tr>\n",
       "      <th>std</th>\n",
       "      <td>11.59132</td>\n",
       "    </tr>\n",
       "    <tr>\n",
       "      <th>min</th>\n",
       "      <td>16.00000</td>\n",
       "    </tr>\n",
       "    <tr>\n",
       "      <th>25%</th>\n",
       "      <td>25.00000</td>\n",
       "    </tr>\n",
       "    <tr>\n",
       "      <th>50%</th>\n",
       "      <td>34.00000</td>\n",
       "    </tr>\n",
       "    <tr>\n",
       "      <th>75%</th>\n",
       "      <td>44.00000</td>\n",
       "    </tr>\n",
       "    <tr>\n",
       "      <th>max</th>\n",
       "      <td>67.00000</td>\n",
       "    </tr>\n",
       "  </tbody>\n",
       "</table>\n",
       "</div>"
      ],
      "text/plain": [
       "                ETA\n",
       "count  100000.00000\n",
       "mean       35.27370\n",
       "std        11.59132\n",
       "min        16.00000\n",
       "25%        25.00000\n",
       "50%        34.00000\n",
       "75%        44.00000\n",
       "max        67.00000"
      ]
     },
     "execution_count": 18,
     "metadata": {},
     "output_type": "execute_result"
    }
   ],
   "source": [
    "print(\"Activated Contracts dataset\")\n",
    "df_att.describe()"
   ]
  },
  {
   "cell_type": "code",
   "execution_count": 19,
   "id": "fab098b5-7643-494d-ab4a-0f70c8f8df1d",
   "metadata": {},
   "outputs": [
    {
     "name": "stdout",
     "output_type": "stream",
     "text": [
      "Terminated Contracts dataset\n"
     ]
    },
    {
     "data": {
      "text/html": [
       "<div>\n",
       "<style scoped>\n",
       "    .dataframe tbody tr th:only-of-type {\n",
       "        vertical-align: middle;\n",
       "    }\n",
       "\n",
       "    .dataframe tbody tr th {\n",
       "        vertical-align: top;\n",
       "    }\n",
       "\n",
       "    .dataframe thead th {\n",
       "        text-align: right;\n",
       "    }\n",
       "</style>\n",
       "<table border=\"1\" class=\"dataframe\">\n",
       "  <thead>\n",
       "    <tr style=\"text-align: right;\">\n",
       "      <th></th>\n",
       "      <th>ETA</th>\n",
       "    </tr>\n",
       "  </thead>\n",
       "  <tbody>\n",
       "    <tr>\n",
       "      <th>count</th>\n",
       "      <td>100000.000000</td>\n",
       "    </tr>\n",
       "    <tr>\n",
       "      <th>mean</th>\n",
       "      <td>38.120970</td>\n",
       "    </tr>\n",
       "    <tr>\n",
       "      <th>std</th>\n",
       "      <td>12.365447</td>\n",
       "    </tr>\n",
       "    <tr>\n",
       "      <th>min</th>\n",
       "      <td>16.000000</td>\n",
       "    </tr>\n",
       "    <tr>\n",
       "      <th>25%</th>\n",
       "      <td>28.000000</td>\n",
       "    </tr>\n",
       "    <tr>\n",
       "      <th>50%</th>\n",
       "      <td>37.000000</td>\n",
       "    </tr>\n",
       "    <tr>\n",
       "      <th>75%</th>\n",
       "      <td>47.000000</td>\n",
       "    </tr>\n",
       "    <tr>\n",
       "      <th>max</th>\n",
       "      <td>67.000000</td>\n",
       "    </tr>\n",
       "  </tbody>\n",
       "</table>\n",
       "</div>"
      ],
      "text/plain": [
       "                 ETA\n",
       "count  100000.000000\n",
       "mean       38.120970\n",
       "std        12.365447\n",
       "min        16.000000\n",
       "25%        28.000000\n",
       "50%        37.000000\n",
       "75%        47.000000\n",
       "max        67.000000"
      ]
     },
     "execution_count": 19,
     "metadata": {},
     "output_type": "execute_result"
    }
   ],
   "source": [
    "print(\"Terminated Contracts dataset\")\n",
    "df_ces.describe()"
   ]
  },
  {
   "cell_type": "markdown",
   "id": "06e6aab3-ed5f-455c-b304-3e18d705b03e",
   "metadata": {},
   "source": [
    "Now let's plot the age distribution in the 2 datasets"
   ]
  },
  {
   "cell_type": "code",
   "execution_count": 22,
   "id": "e6063468-0cd3-426a-848f-669ee48a8d20",
   "metadata": {},
   "outputs": [
    {
     "data": {
      "text/plain": [
       "Text(0.5, 1.0, 'Age distribution on Terminated Contracts dataset')"
      ]
     },
     "execution_count": 22,
     "metadata": {},
     "output_type": "execute_result"
    },
    {
     "data": {
      "image/png": "[encoded data removed]",
      "text/plain": [
       "<Figure size 1440x864 with 2 Axes>"
      ]
     },
     "metadata": {},
     "output_type": "display_data"
    }
   ],
   "source": [
    "sns.set(rc={\"figure.figsize\": (20, 12)})\n",
    "plt.subplot(2,2,1)\n",
    "sns.histplot(df_att.ETA, label=\"AGE'\", stat=\"density\", bins=10, kde=True).set_title(\"Age distribution on Activated Contracts dataset\")\n",
    "plt.subplot(2,2,2)\n",
    "sns.histplot(df_ces.ETA, label=\"AGE'\", stat=\"density\", bins=10, kde=True).set_title(\"Age distribution on Terminated Contracts dataset\")"
   ]
  },
  {
   "cell_type": "markdown",
   "id": "cff70f35-bdcb-4a8d-a63c-18649fe54a11",
   "metadata": {},
   "source": [
    "## Correlation"
   ]
  },
  {
   "cell_type": "markdown",
   "id": "cb9eef06-6960-4221-97a6-03a7379cd21a",
   "metadata": {},
   "source": [
    "## Frquency Analysis"
   ]
  },
  {
   "cell_type": "code",
   "execution_count": null,
   "id": "5a0d0607-616f-4ad0-bc71-5444d4fef06a",
   "metadata": {},
   "outputs": [],
   "source": []
  },
  {
   "cell_type": "code",
   "execution_count": null,
   "id": "44be4733-ca20-4835-a543-a575fa695f95",
   "metadata": {},
   "outputs": [],
   "source": []
  },
  {
   "cell_type": "code",
   "execution_count": 21,
   "id": "sized-bulgarian",
   "metadata": {},
   "outputs": [
    {
     "name": "stderr",
     "output_type": "stream",
     "text": [
      "/root/anaconda3/envs/dsfb/lib/python3.8/site-packages/seaborn/distributions.py:2619: FutureWarning: `distplot` is a deprecated function and will be removed in a future version. Please adapt your code to use either `displot` (a figure-level function with similar flexibility) or `histplot` (an axes-level function for histograms).\n",
      "  warnings.warn(msg, FutureWarning)\n",
      "/root/anaconda3/envs/dsfb/lib/python3.8/site-packages/seaborn/distributions.py:2619: FutureWarning: `distplot` is a deprecated function and will be removed in a future version. Please adapt your code to use either `displot` (a figure-level function with similar flexibility) or `histplot` (an axes-level function for histograms).\n",
      "  warnings.warn(msg, FutureWarning)\n",
      "/root/anaconda3/envs/dsfb/lib/python3.8/site-packages/seaborn/distributions.py:2619: FutureWarning: `distplot` is a deprecated function and will be removed in a future version. Please adapt your code to use either `displot` (a figure-level function with similar flexibility) or `histplot` (an axes-level function for histograms).\n",
      "  warnings.warn(msg, FutureWarning)\n",
      "/root/anaconda3/envs/dsfb/lib/python3.8/site-packages/seaborn/distributions.py:2619: FutureWarning: `distplot` is a deprecated function and will be removed in a future version. Please adapt your code to use either `displot` (a figure-level function with similar flexibility) or `histplot` (an axes-level function for histograms).\n",
      "  warnings.warn(msg, FutureWarning)\n"
     ]
    },
    {
     "data": {
      "text/plain": [
       "<AxesSubplot:xlabel='ETA', ylabel='Density'>"
      ]
     },
     "execution_count": 21,
     "metadata": {},
     "output_type": "execute_result"
    },
    {
     "data": {
      "image/png": "[encoded data removed]",
      "text/plain": [
       "<Figure size 1152x864 with 4 Axes>"
      ]
     },
     "metadata": {},
     "output_type": "display_data"
    }
   ],
   "source": [
    "#from pylab import *\n",
    "\n",
    "sns.set(rc={\"figure.figsize\": (16, 12)});\n",
    "\n",
    "# convert the 'Date' column to datetime format\n",
    "df_att['DATA']= pd.to_datetime(df_att['DATA'])\n",
    "df_att_2018 = df_att[(df_att['DATA'] > '2018-01-01') & (df_att['DATA'] < '2018-12-31')]\n",
    "df_att_2018.GENERE.value_counts()\n",
    "# Distribuzione sample contratti attivati per età\n",
    "plt.subplot(2,2,1)\n",
    "sns.distplot(df_att_2018.ETA, bins=10)\n",
    "\n",
    "# convert the 'Date' column to datetime format\n",
    "df_att['DATA']= pd.to_datetime(df_att['DATA'])\n",
    "df_att_2019 = df_att[(df_att['DATA'] > '2019-01-01') & (df_att['DATA'] < '2019-12-31')]\n",
    "df_att_2019.GENERE.value_counts()\n",
    "# Distribuzione sample contratti attivati per età\n",
    "plt.subplot(2,2,2)\n",
    "sns.distplot(df_att_2019.ETA, bins=10)\n",
    "\n",
    "# convert the 'Date' column to datetime format\n",
    "df_att['DATA']= pd.to_datetime(df_att['DATA'])\n",
    "df_att_2020 = df_att[(df_att['DATA'] > '2020-01-01') & (df_att['DATA'] < '2020-12-31')]\n",
    "df_att_2020.GENERE.value_counts()\n",
    "# Distribuzione sample contratti attivati per età\n",
    "plt.subplot(2,2,3)\n",
    "sns.distplot(df_att_2020.ETA, bins=10)\n",
    "\n",
    "# convert the 'Date' column to datetime format\n",
    "df_att['DATA']= pd.to_datetime(df_att['DATA'])\n",
    "df_att_2021 = df_att[(df_att['DATA'] > '2021-01-01') & (df_att['DATA'] < '2021-12-31')]\n",
    "df_att_2021.GENERE.value_counts()\n",
    "# Distribuzione sample contratti attivati per età\n",
    "plt.subplot(2,2,4)\n",
    "sns.distplot(df_att_2021.ETA, bins=10)"
   ]
  },
  {
   "cell_type": "code",
   "execution_count": 1,
   "id": "shared-quantity",
   "metadata": {},
   "outputs": [
    {
     "ename": "NameError",
     "evalue": "name 'sns' is not defined",
     "output_type": "error",
     "traceback": [
      "\u001b[0;31m---------------------------------------------------------------------------\u001b[0m",
      "\u001b[0;31mNameError\u001b[0m                                 Traceback (most recent call last)",
      "Input \u001b[0;32mIn [1]\u001b[0m, in \u001b[0;36m<cell line: 1>\u001b[0;34m()\u001b[0m\n\u001b[0;32m----> 1\u001b[0m \u001b[43msns\u001b[49m\u001b[38;5;241m.\u001b[39mdistplot(df_att\u001b[38;5;241m.\u001b[39mETA, bins\u001b[38;5;241m=\u001b[39m\u001b[38;5;241m10\u001b[39m)\n",
      "\u001b[0;31mNameError\u001b[0m: name 'sns' is not defined"
     ]
    }
   ],
   "source": []
  },
  {
   "cell_type": "code",
   "execution_count": 9,
   "id": "exciting-identity",
   "metadata": {},
   "outputs": [],
   "source": [
    "# take 100000 samples from the datasets\n",
    "df_att_sample = df_att.sample(n=100000)\n",
    "df_ces_sample = df_att.sample(n=100000)"
   ]
  },
  {
   "cell_type": "code",
   "execution_count": 32,
   "id": "sexual-adapter",
   "metadata": {},
   "outputs": [
    {
     "data": {
      "text/plain": [
       "M    53223\n",
       "F    46777\n",
       "Name: GENERE, dtype: int64"
      ]
     },
     "execution_count": 32,
     "metadata": {},
     "output_type": "execute_result"
    }
   ],
   "source": [
    "df_att_sample.GENERE.value_counts()"
   ]
  },
  {
   "cell_type": "code",
   "execution_count": 26,
   "id": "opponent-optimization",
   "metadata": {},
   "outputs": [
    {
     "data": {
      "text/plain": [
       "{'whiskers': [<matplotlib.lines.Line2D at 0x7fd2441e7be0>,\n",
       "  <matplotlib.lines.Line2D at 0x7fd2441e7cd0>],\n",
       " 'caps': [<matplotlib.lines.Line2D at 0x7fd2441ca040>,\n",
       "  <matplotlib.lines.Line2D at 0x7fd2441cafa0>],\n",
       " 'boxes': [<matplotlib.lines.Line2D at 0x7fd243ebd6d0>],\n",
       " 'medians': [<matplotlib.lines.Line2D at 0x7fd2441ca4f0>],\n",
       " 'fliers': [<matplotlib.lines.Line2D at 0x7fd2441ca7c0>],\n",
       " 'means': []}"
      ]
     },
     "execution_count": 26,
     "metadata": {},
     "output_type": "execute_result"
    },
    {
     "data": {
      "image/png": "[encoded data removed]",
      "text/plain": [
       "<Figure size 720x720 with 1 Axes>"
      ]
     },
     "metadata": {
      "needs_background": "light"
     },
     "output_type": "display_data"
    }
   ],
   "source": [
    "fig, ax = plt.subplots(figsize=(10,10))\n",
    "ax.boxplot(df_att_sample.ETA)"
   ]
  },
  {
   "cell_type": "code",
   "execution_count": 24,
   "id": "crude-circumstances",
   "metadata": {},
   "outputs": [
    {
     "name": "stderr",
     "output_type": "stream",
     "text": [
      "/root/anaconda3/envs/dsfb/lib/python3.8/site-packages/seaborn/distributions.py:2619: FutureWarning: `distplot` is a deprecated function and will be removed in a future version. Please adapt your code to use either `displot` (a figure-level function with similar flexibility) or `histplot` (an axes-level function for histograms).\n",
      "  warnings.warn(msg, FutureWarning)\n"
     ]
    },
    {
     "data": {
      "image/png": "[encoded data removed]",
      "text/plain": [
       "<Figure size 432x288 with 1 Axes>"
      ]
     },
     "metadata": {
      "needs_background": "light"
     },
     "output_type": "display_data"
    }
   ],
   "source": [
    "# Distribuzione sample attività avviate per età\n",
    "dist_att = sns.distplot(df_att_sample.ETA, bins=10)"
   ]
  },
  {
   "cell_type": "code",
   "execution_count": 25,
   "id": "intense-frame",
   "metadata": {},
   "outputs": [
    {
     "name": "stderr",
     "output_type": "stream",
     "text": [
      "/root/anaconda3/envs/dsfb/lib/python3.8/site-packages/seaborn/distributions.py:2619: FutureWarning: `distplot` is a deprecated function and will be removed in a future version. Please adapt your code to use either `displot` (a figure-level function with similar flexibility) or `histplot` (an axes-level function for histograms).\n",
      "  warnings.warn(msg, FutureWarning)\n"
     ]
    },
    {
     "data": {
      "image/png": "[encoded data removed]",
      "text/plain": [
       "<Figure size 432x288 with 1 Axes>"
      ]
     },
     "metadata": {
      "needs_background": "light"
     },
     "output_type": "display_data"
    }
   ],
   "source": [
    "# Distribuzione sample attività cessate per età\n",
    "dist_ces = sns.distplot(df_ces_sample.ETA, bins=10)"
   ]
  },
  {
   "cell_type": "code",
   "execution_count": 43,
   "id": "amateur-proposal",
   "metadata": {},
   "outputs": [
    {
     "name": "stdout",
     "output_type": "stream",
     "text": [
      "Media Età - Contratti Attivati 35.45674\n",
      "Media Età - Contratti Cessati 35.47624\n"
     ]
    }
   ],
   "source": [
    "mean_age_att = df_att_sample[\"ETA\"].mean()\n",
    "mean_age_ces = df_ces_sample[\"ETA\"].mean()\n",
    "mean_age_f_att = df_att_sample[\"ETA\"].mean()\n",
    "print(f'Media Età - Contratti Attivati {mean_age_att}')\n",
    "\n",
    "print(f'Media Età - Contratti Cessati {mean_age_ces}')"
   ]
  },
  {
   "cell_type": "code",
   "execution_count": null,
   "id": "deluxe-backing",
   "metadata": {},
   "outputs": [],
   "source": [
    "df_att_sample[\"\"]"
   ]
  }
 ],
 "metadata": {
  "kernelspec": {
   "display_name": "Python 3 (ipykernel)",
   "language": "python",
   "name": "python3"
  },
  "language_info": {
   "codemirror_mode": {
    "name": "ipython",
    "version": 3
   },
   "file_extension": ".py",
   "mimetype": "text/x-python",
   "name": "python",
   "nbconvert_exporter": "python",
   "pygments_lexer": "ipython3",
   "version": "3.8.12"
  }
 },
 "nbformat": 4,
 "nbformat_minor": 5
}
