{
 "cells": [
  {
   "cell_type": "markdown",
   "id": "718d8705",
   "metadata": {
    "slideshow": {
     "slide_type": "slide"
    }
   },
   "source": [
    "<div style=\"font-family:Arial Narrow\" align=\"center\">\n",
    "<h1 style=\"font-size: 50pt\">Job Market Analysis</h1> \n",
    "<h3 style=\"font-size: 30pt\">An overview of Lombardia job market</h3>\n",
    "<img src=\"./src/img1.png\" />\n",
    "\n",
    "</div>"
   ]
  },
  {
   "cell_type": "markdown",
   "id": "0498c0f7",
   "metadata": {
    "slideshow": {
     "slide_type": "slide"
    }
   },
   "source": [
    "<div style=\"font-family:Arial Narrow\">\n",
    "    <h1 style=\"font-size: 40pt\">Data</h1>\n",
    "    <p></p>\n",
    "    <p style=\"font-size: 30pt\">&nbsp;•&nbsp;Activated Contracts from Regione Lombardia</p>\n",
    "    <p style=\"font-size: 30pt\">&nbsp;•&nbsp;Ceased Contracts from Regione Lombardia</p>\n",
    "    <p style=\"font-size: 30pt\">&nbsp;•&nbsp;ATECO Code</p>\n",
    "    <p style=\"font-size: 30pt\">&nbsp;•&nbsp;GeoJSON Lombardia</p>\n",
    "    <img width=\"200px\" height=\"200px\" src=\"./src/img2.png\" align=\"right\" />\n",
    "</div>"
   ]
  },
  {
   "cell_type": "code",
   "execution_count": null,
   "id": "8f81dd64",
   "metadata": {
    "slideshow": {
     "slide_type": "subslide"
    }
   },
   "outputs": [],
   "source": [
    "# Retriving all dataset from online sources if we haven't them"
   ]
  },
  {
   "cell_type": "markdown",
   "id": "6c6a799b",
   "metadata": {
    "slideshow": {
     "slide_type": "slide"
    }
   },
   "source": [
    "<div style=\"font-family:Arial Narrow\">\n",
    "    <h1 style=\"font-size: 40pt\">Data Cleaning</h1>\n",
    "    <p></p>\n",
    "    <p style=\"font-size: 30pt\">&nbsp;•&nbsp;Activated Contracts from Regione Lombardia</p>\n",
    "    <p style=\"font-size: 30pt\">&nbsp;•&nbsp;Ceased Contracts from Regione Lombardia</p>\n",
    "    <p style=\"font-size: 30pt\">&nbsp;•&nbsp;ATECO Code</p>\n",
    "    <p style=\"font-size: 30pt\">&nbsp;•&nbsp;GeoJSON Lombardia</p>\n",
    "    <img width=\"200px\" height=\"200px\" src=\"./src/img3.png\" align=\"right\" />\n",
    "</div>"
   ]
  },
  {
   "cell_type": "markdown",
   "id": "e7c77620",
   "metadata": {
    "slideshow": {
     "slide_type": "subslide"
    }
   },
   "source": []
  },
  {
   "cell_type": "code",
   "execution_count": null,
   "id": "37749218",
   "metadata": {
    "slideshow": {
     "slide_type": "-"
    }
   },
   "outputs": [],
   "source": [
    "# Data Cleaning"
   ]
  },
  {
   "cell_type": "markdown",
   "id": "e93e658b",
   "metadata": {
    "slideshow": {
     "slide_type": "slide"
    }
   },
   "source": [
    "<h1 style=\"font-family:Arial Narrow\">Data Exploration</h1> "
   ]
  },
  {
   "cell_type": "code",
   "execution_count": null,
   "id": "672b63ee",
   "metadata": {
    "slideshow": {
     "slide_type": "subslide"
    }
   },
   "outputs": [],
   "source": [
    "# Data Exploration"
   ]
  },
  {
   "cell_type": "markdown",
   "id": "fb5e2078",
   "metadata": {
    "slideshow": {
     "slide_type": "slide"
    }
   },
   "source": [
    "<h1 style=\"font-family:Arial Narrow\">Prediction Models</h1> "
   ]
  },
  {
   "cell_type": "code",
   "execution_count": null,
   "id": "a1a935dd",
   "metadata": {
    "slideshow": {
     "slide_type": "subslide"
    }
   },
   "outputs": [],
   "source": [
    "# Prediction Models"
   ]
  },
  {
   "cell_type": "markdown",
   "id": "6f3dd482",
   "metadata": {
    "slideshow": {
     "slide_type": "slide"
    }
   },
   "source": [
    "<h1 style=\"font-family:Arial Narrow\">Prediction Results</h1> "
   ]
  },
  {
   "cell_type": "code",
   "execution_count": null,
   "id": "346a525e",
   "metadata": {
    "slideshow": {
     "slide_type": "subslide"
    }
   },
   "outputs": [],
   "source": [
    "# Prediction Results"
   ]
  },
  {
   "cell_type": "markdown",
   "id": "85b54074",
   "metadata": {
    "slideshow": {
     "slide_type": "slide"
    }
   },
   "source": [
    "<h1 style=\"font-family:Arial Narrow\">Conclusions</h1> "
   ]
  },
  {
   "cell_type": "markdown",
   "id": "7dda01a2",
   "metadata": {
    "slideshow": {
     "slide_type": "slide"
    }
   },
   "source": [
    "<h1 style=\"font-family:Arial Narrow\">Improvements</h1> "
   ]
  },
  {
   "cell_type": "markdown",
   "id": "360f9a92",
   "metadata": {
    "slideshow": {
     "slide_type": "slide"
    }
   },
   "source": [
    "<h1 style=\"font-family:Arial Narrow\" align=\"center\">Thanks for your attention!</h1>"
   ]
  }
 ],
 "metadata": {
  "celltoolbar": "Slideshow",
  "kernelspec": {
   "display_name": "Python 3",
   "language": "python",
   "name": "python3"
  },
  "language_info": {
   "codemirror_mode": {
    "name": "ipython",
    "version": 3
   },
   "file_extension": ".py",
   "mimetype": "text/x-python",
   "name": "python",
   "nbconvert_exporter": "python",
   "pygments_lexer": "ipython3",
   "version": "3.9.0"
  }
 },
 "nbformat": 4,
 "nbformat_minor": 5
}
